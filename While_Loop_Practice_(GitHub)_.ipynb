{
  "nbformat": 4,
  "nbformat_minor": 0,
  "metadata": {
    "colab": {
      "name": "While Loop Practice (GitHub) .ipynb",
      "provenance": [],
      "authorship_tag": "ABX9TyM1NVBzrlCpNxH4QV3GyEbs",
      "include_colab_link": true
    },
    "kernelspec": {
      "name": "python3",
      "display_name": "Python 3"
    }
  },
  "cells": [
    {
      "cell_type": "markdown",
      "metadata": {
        "id": "view-in-github",
        "colab_type": "text"
      },
      "source": [
        "<a href=\"https://colab.research.google.com/github/ShivanshGupta1/While-Loop-Practice/blob/main/While_Loop_Practice_(GitHub)_.ipynb\" target=\"_parent\"><img src=\"https://colab.research.google.com/assets/colab-badge.svg\" alt=\"Open In Colab\"/></a>"
      ]
    },
    {
      "cell_type": "code",
      "metadata": {
        "id": "wHrknaXLVyX-"
      },
      "source": [
        "while True:\n",
        "  weight = int(input('What is the weight'))\n",
        "  if weight >= 0:\n",
        "    print(weight*1000, 'grams', sep ='')\n",
        "    break\n",
        "  else:\n",
        "    print('Invalid')"
      ],
      "execution_count": null,
      "outputs": []
    },
    {
      "cell_type": "code",
      "metadata": {
        "id": "kfgancxsVzv4"
      },
      "source": [
        "i = 0\n",
        "while i<5:\n",
        "  password = int(input('What is the Password'))\n",
        "  if password==1234:\n",
        "    print('Logged In')\n",
        "    break\n",
        "  else:\n",
        "    i=i+1\n",
        "    if i<5:\n",
        "     print('Invalid Password, Reenter It')\n",
        "    elif i==5:\n",
        "      print('You are kicked out! Aplogies ;)')\n",
        "  \n"
      ],
      "execution_count": null,
      "outputs": []
    }
  ]
}